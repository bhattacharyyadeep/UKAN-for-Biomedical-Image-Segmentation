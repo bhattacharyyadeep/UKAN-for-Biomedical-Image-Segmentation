{
  "cells": [
    {
      "cell_type": "code",
      "execution_count": null,
      "metadata": {
        "colab": {
          "base_uri": "https://localhost:8080/"
        },
        "id": "FSEI3ZKpAM9-",
        "outputId": "f8dd5fd8-a406-4164-bee7-f3ac5908634c"
      },
      "outputs": [
        {
          "output_type": "stream",
          "name": "stdout",
          "text": [
            "Cloning into 'U-KAN'...\n",
            "remote: Enumerating objects: 217, done.\u001b[K\n",
            "remote: Counting objects: 100% (64/64), done.\u001b[K\n",
            "remote: Compressing objects: 100% (45/45), done.\u001b[K\n",
            "remote: Total 217 (delta 43), reused 20 (delta 19), pack-reused 153 (from 1)\u001b[K\n",
            "Receiving objects: 100% (217/217), 2.58 MiB | 6.19 MiB/s, done.\n",
            "Resolving deltas: 100% (101/101), done.\n"
          ]
        }
      ],
      "source": [
        "!git clone https://github.com/CUHK-AIM-Group/U-KAN.git"
      ]
    },
    {
      "cell_type": "code",
      "execution_count": null,
      "metadata": {
        "colab": {
          "base_uri": "https://localhost:8080/"
        },
        "id": "NiXS91ct7L3o",
        "outputId": "5d578a74-9fcb-449d-99dc-7a3b67dfb52b"
      },
      "outputs": [
        {
          "output_type": "stream",
          "name": "stdout",
          "text": [
            "Mounted at /content/drive\n"
          ]
        }
      ],
      "source": [
        "from google.colab import drive\n",
        "drive.mount('/content/drive')"
      ]
    },
    {
      "cell_type": "code",
      "execution_count": null,
      "metadata": {
        "colab": {
          "base_uri": "https://localhost:8080/"
        },
        "id": "JztEGirpAat2",
        "outputId": "55a5783d-67de-4df5-8485-afb91187b1f2"
      },
      "outputs": [
        {
          "output_type": "stream",
          "name": "stdout",
          "text": [
            "/content/U-KAN\n"
          ]
        }
      ],
      "source": [
        "%cd U-KAN/"
      ]
    },
    {
      "cell_type": "code",
      "execution_count": null,
      "metadata": {
        "colab": {
          "base_uri": "https://localhost:8080/"
        },
        "id": "Bui0updIAiAu",
        "outputId": "ba03653e-c43f-4fca-f66f-ca1e7fbb2b26"
      },
      "outputs": [
        {
          "output_type": "stream",
          "name": "stdout",
          "text": [
            "/content/U-KAN/Seg_UKAN\n"
          ]
        }
      ],
      "source": [
        "%cd Seg_UKAN"
      ]
    },
    {
      "cell_type": "code",
      "execution_count": null,
      "metadata": {
        "colab": {
          "base_uri": "https://localhost:8080/"
        },
        "id": "mvKoy_GhgLIt",
        "outputId": "1726ccfb-a66b-4122-a3e0-9ba6345e7e59"
      },
      "outputs": [
        {
          "output_type": "stream",
          "name": "stdout",
          "text": [
            "archs.py   dataset.py\t    kan.py   losses.py\t requirements.txt  train.py  val.py\n",
            "config.py  environment.yml  LICENSE  metrics.py  scripts.sh\t   utils.py\n"
          ]
        }
      ],
      "source": [
        "!ls /content/U-KAN/Seg_UKAN"
      ]
    },
    {
      "cell_type": "code",
      "execution_count": null,
      "metadata": {
        "colab": {
          "base_uri": "https://localhost:8080/"
        },
        "id": "N_9SB3zqAmKV",
        "outputId": "bf852e2e-f394-43b4-8fbe-4a67c2c505cf"
      },
      "outputs": [
        {
          "output_type": "stream",
          "name": "stdout",
          "text": [
            "Collecting addict==2.4.0 (from -r requirements.txt (line 1))\n",
            "  Downloading addict-2.4.0-py3-none-any.whl.metadata (1.0 kB)\n",
            "Collecting dataclasses (from -r requirements.txt (line 2))\n",
            "  Downloading dataclasses-0.6-py3-none-any.whl.metadata (3.0 kB)\n",
            "Requirement already satisfied: pandas in /usr/local/lib/python3.10/dist-packages (from -r requirements.txt (line 3)) (2.2.2)\n",
            "Requirement already satisfied: pyyaml in /usr/local/lib/python3.10/dist-packages (from -r requirements.txt (line 4)) (6.0.2)\n",
            "Requirement already satisfied: albumentations in /usr/local/lib/python3.10/dist-packages (from -r requirements.txt (line 5)) (1.4.20)\n",
            "Requirement already satisfied: tqdm in /usr/local/lib/python3.10/dist-packages (from -r requirements.txt (line 6)) (4.66.6)\n",
            "Collecting tensorboardX (from -r requirements.txt (line 7))\n",
            "  Downloading tensorboardX-2.6.2.2-py2.py3-none-any.whl.metadata (5.8 kB)\n",
            "Requirement already satisfied: numpy in /usr/local/lib/python3.10/dist-packages (from -r requirements.txt (line 9)) (1.26.4)\n",
            "Requirement already satisfied: opencv-python in /usr/local/lib/python3.10/dist-packages (from -r requirements.txt (line 10)) (4.10.0.84)\n",
            "Collecting perceptual==0.1 (from -r requirements.txt (line 11))\n",
            "  Downloading perceptual-0.1.tar.gz (5.6 kB)\n",
            "  Preparing metadata (setup.py) ... \u001b[?25l\u001b[?25hdone\n",
            "Collecting pillow==8.4.0 (from -r requirements.txt (line 12))\n",
            "  Downloading Pillow-8.4.0-cp310-cp310-manylinux_2_17_x86_64.manylinux2014_x86_64.whl.metadata (7.5 kB)\n",
            "Collecting scikit-image==0.17.2 (from -r requirements.txt (line 13))\n",
            "  Downloading scikit-image-0.17.2.tar.gz (29.8 MB)\n",
            "\u001b[2K     \u001b[90m━━━━━━━━━━━━━━━━━━━━━━━━━━━━━━━━━━━━━━━━\u001b[0m \u001b[32m29.8/29.8 MB\u001b[0m \u001b[31m62.7 MB/s\u001b[0m eta \u001b[36m0:00:00\u001b[0m\n",
            "\u001b[?25h  \u001b[1;31merror\u001b[0m: \u001b[1msubprocess-exited-with-error\u001b[0m\n",
            "  \n",
            "  \u001b[31m×\u001b[0m \u001b[32mpython setup.py egg_info\u001b[0m did not run successfully.\n",
            "  \u001b[31m│\u001b[0m exit code: \u001b[1;36m1\u001b[0m\n",
            "  \u001b[31m╰─>\u001b[0m See above for output.\n",
            "  \n",
            "  \u001b[1;35mnote\u001b[0m: This error originates from a subprocess, and is likely not a problem with pip.\n",
            "  Preparing metadata (setup.py) ... \u001b[?25l\u001b[?25herror\n",
            "\u001b[1;31merror\u001b[0m: \u001b[1mmetadata-generation-failed\u001b[0m\n",
            "\n",
            "\u001b[31m×\u001b[0m Encountered error while generating package metadata.\n",
            "\u001b[31m╰─>\u001b[0m See above for output.\n",
            "\n",
            "\u001b[1;35mnote\u001b[0m: This is an issue with the package mentioned above, not pip.\n",
            "\u001b[1;36mhint\u001b[0m: See above for details.\n"
          ]
        }
      ],
      "source": [
        "!pip install -r requirements.txt"
      ]
    },
    {
      "cell_type": "code",
      "execution_count": null,
      "metadata": {
        "colab": {
          "base_uri": "https://localhost:8080/"
        },
        "id": "1LN89BgSBYWm",
        "outputId": "8143f1e8-d470-4802-9e4d-9d4352d4f6d9"
      },
      "outputs": [
        {
          "output_type": "stream",
          "name": "stdout",
          "text": [
            "Looking in indexes: https://pypi.org/simple, https://download.pytorch.org/whl/cu116\n",
            "Collecting torch==1.13.0+cu116\n",
            "  Downloading https://download.pytorch.org/whl/cu116/torch-1.13.0%2Bcu116-cp310-cp310-linux_x86_64.whl (1983.0 MB)\n",
            "\u001b[2K     \u001b[90m━━━━━━━━━━━━━━━━━━━━━━━━━━━━━━━━━━━━━━━━\u001b[0m \u001b[32m2.0/2.0 GB\u001b[0m \u001b[31m917.8 kB/s\u001b[0m eta \u001b[36m0:00:00\u001b[0m\n",
            "\u001b[?25hCollecting torchvision==0.14.0+cu116\n",
            "  Downloading https://download.pytorch.org/whl/cu116/torchvision-0.14.0%2Bcu116-cp310-cp310-linux_x86_64.whl (24.2 MB)\n",
            "\u001b[2K     \u001b[90m━━━━━━━━━━━━━━━━━━━━━━━━━━━━━━━━━━━━━━━━\u001b[0m \u001b[32m24.2/24.2 MB\u001b[0m \u001b[31m35.6 MB/s\u001b[0m eta \u001b[36m0:00:00\u001b[0m\n",
            "\u001b[?25hCollecting torchaudio==0.13.0\n",
            "  Downloading https://download.pytorch.org/whl/cu116/torchaudio-0.13.0%2Bcu116-cp310-cp310-linux_x86_64.whl (4.2 MB)\n",
            "\u001b[2K     \u001b[90m━━━━━━━━━━━━━━━━━━━━━━━━━━━━━━━━━━━━━━━━\u001b[0m \u001b[32m4.2/4.2 MB\u001b[0m \u001b[31m14.0 MB/s\u001b[0m eta \u001b[36m0:00:00\u001b[0m\n",
            "\u001b[?25hRequirement already satisfied: typing-extensions in /usr/local/lib/python3.10/dist-packages (from torch==1.13.0+cu116) (4.12.2)\n",
            "Requirement already satisfied: numpy in /usr/local/lib/python3.10/dist-packages (from torchvision==0.14.0+cu116) (1.26.4)\n",
            "Requirement already satisfied: requests in /usr/local/lib/python3.10/dist-packages (from torchvision==0.14.0+cu116) (2.32.3)\n",
            "Requirement already satisfied: pillow!=8.3.*,>=5.3.0 in /usr/local/lib/python3.10/dist-packages (from torchvision==0.14.0+cu116) (10.4.0)\n",
            "Requirement already satisfied: charset-normalizer<4,>=2 in /usr/local/lib/python3.10/dist-packages (from requests->torchvision==0.14.0+cu116) (3.4.0)\n",
            "Requirement already satisfied: idna<4,>=2.5 in /usr/local/lib/python3.10/dist-packages (from requests->torchvision==0.14.0+cu116) (3.10)\n",
            "Requirement already satisfied: urllib3<3,>=1.21.1 in /usr/local/lib/python3.10/dist-packages (from requests->torchvision==0.14.0+cu116) (2.2.3)\n",
            "Requirement already satisfied: certifi>=2017.4.17 in /usr/local/lib/python3.10/dist-packages (from requests->torchvision==0.14.0+cu116) (2024.8.30)\n",
            "Installing collected packages: torch, torchvision, torchaudio\n",
            "  Attempting uninstall: torch\n",
            "    Found existing installation: torch 2.5.0+cu121\n",
            "    Uninstalling torch-2.5.0+cu121:\n",
            "      Successfully uninstalled torch-2.5.0+cu121\n",
            "  Attempting uninstall: torchvision\n",
            "    Found existing installation: torchvision 0.20.0+cu121\n",
            "    Uninstalling torchvision-0.20.0+cu121:\n",
            "      Successfully uninstalled torchvision-0.20.0+cu121\n",
            "  Attempting uninstall: torchaudio\n",
            "    Found existing installation: torchaudio 2.5.0+cu121\n",
            "    Uninstalling torchaudio-2.5.0+cu121:\n",
            "      Successfully uninstalled torchaudio-2.5.0+cu121\n",
            "Successfully installed torch-1.13.0+cu116 torchaudio-0.13.0+cu116 torchvision-0.14.0+cu116\n"
          ]
        }
      ],
      "source": [
        "!pip install torch==1.13.0+cu116 torchvision==0.14.0+cu116 torchaudio==0.13.0 --extra-index-url https://download.pytorch.org/whl/cu116"
      ]
    },
    {
      "cell_type": "code",
      "execution_count": null,
      "metadata": {
        "colab": {
          "base_uri": "https://localhost:8080/"
        },
        "id": "4oixIRjPGsF8",
        "outputId": "b258eafb-9ac0-4c33-9968-7f3bbbddd59e"
      },
      "outputs": [
        {
          "output_type": "stream",
          "name": "stdout",
          "text": [
            "Requirement already satisfied: timm in /usr/local/lib/python3.10/dist-packages (1.0.11)\n",
            "Requirement already satisfied: torch in /usr/local/lib/python3.10/dist-packages (from timm) (1.13.0+cu116)\n",
            "Requirement already satisfied: torchvision in /usr/local/lib/python3.10/dist-packages (from timm) (0.14.0+cu116)\n",
            "Requirement already satisfied: pyyaml in /usr/local/lib/python3.10/dist-packages (from timm) (6.0.2)\n",
            "Requirement already satisfied: huggingface_hub in /usr/local/lib/python3.10/dist-packages (from timm) (0.24.7)\n",
            "Requirement already satisfied: safetensors in /usr/local/lib/python3.10/dist-packages (from timm) (0.4.5)\n",
            "Requirement already satisfied: filelock in /usr/local/lib/python3.10/dist-packages (from huggingface_hub->timm) (3.16.1)\n",
            "Requirement already satisfied: fsspec>=2023.5.0 in /usr/local/lib/python3.10/dist-packages (from huggingface_hub->timm) (2024.10.0)\n",
            "Requirement already satisfied: packaging>=20.9 in /usr/local/lib/python3.10/dist-packages (from huggingface_hub->timm) (24.1)\n",
            "Requirement already satisfied: requests in /usr/local/lib/python3.10/dist-packages (from huggingface_hub->timm) (2.32.3)\n",
            "Requirement already satisfied: tqdm>=4.42.1 in /usr/local/lib/python3.10/dist-packages (from huggingface_hub->timm) (4.66.6)\n",
            "Requirement already satisfied: typing-extensions>=3.7.4.3 in /usr/local/lib/python3.10/dist-packages (from huggingface_hub->timm) (4.12.2)\n",
            "Requirement already satisfied: numpy in /usr/local/lib/python3.10/dist-packages (from torchvision->timm) (1.26.4)\n",
            "Requirement already satisfied: pillow!=8.3.*,>=5.3.0 in /usr/local/lib/python3.10/dist-packages (from torchvision->timm) (10.4.0)\n",
            "Requirement already satisfied: charset-normalizer<4,>=2 in /usr/local/lib/python3.10/dist-packages (from requests->huggingface_hub->timm) (3.4.0)\n",
            "Requirement already satisfied: idna<4,>=2.5 in /usr/local/lib/python3.10/dist-packages (from requests->huggingface_hub->timm) (3.10)\n",
            "Requirement already satisfied: urllib3<3,>=1.21.1 in /usr/local/lib/python3.10/dist-packages (from requests->huggingface_hub->timm) (2.2.3)\n",
            "Requirement already satisfied: certifi>=2017.4.17 in /usr/local/lib/python3.10/dist-packages (from requests->huggingface_hub->timm) (2024.8.30)\n",
            "Collecting medpy\n",
            "  Downloading medpy-0.5.2.tar.gz (156 kB)\n",
            "\u001b[2K     \u001b[90m━━━━━━━━━━━━━━━━━━━━━━━━━━━━━━━━━━━━━━━━\u001b[0m \u001b[32m156.3/156.3 kB\u001b[0m \u001b[31m6.7 MB/s\u001b[0m eta \u001b[36m0:00:00\u001b[0m\n",
            "\u001b[?25h  Preparing metadata (setup.py) ... \u001b[?25l\u001b[?25hdone\n",
            "Requirement already satisfied: scipy>=1.10 in /usr/local/lib/python3.10/dist-packages (from medpy) (1.13.1)\n",
            "Requirement already satisfied: numpy>=1.24 in /usr/local/lib/python3.10/dist-packages (from medpy) (1.26.4)\n",
            "Collecting SimpleITK>=2.1 (from medpy)\n",
            "  Downloading SimpleITK-2.4.0-cp310-cp310-manylinux_2_17_x86_64.manylinux2014_x86_64.whl.metadata (7.9 kB)\n",
            "Downloading SimpleITK-2.4.0-cp310-cp310-manylinux_2_17_x86_64.manylinux2014_x86_64.whl (52.4 MB)\n",
            "\u001b[2K   \u001b[90m━━━━━━━━━━━━━━━━━━━━━━━━━━━━━━━━━━━━━━━━\u001b[0m \u001b[32m52.4/52.4 MB\u001b[0m \u001b[31m14.2 MB/s\u001b[0m eta \u001b[36m0:00:00\u001b[0m\n",
            "\u001b[?25hBuilding wheels for collected packages: medpy\n",
            "  Building wheel for medpy (setup.py) ... \u001b[?25l\u001b[?25hdone\n",
            "  Created wheel for medpy: filename=MedPy-0.5.2-cp310-cp310-linux_x86_64.whl size=762833 sha256=5b7ae71f88641ace9472d5054b87f6783e97a4bedde2f6e6c16856d7bfd74c41\n",
            "  Stored in directory: /root/.cache/pip/wheels/a1/b8/63/bdf557940ec60d1b8822e73ff9fbe7727ac19f009d46b5d175\n",
            "Successfully built medpy\n",
            "Installing collected packages: SimpleITK, medpy\n",
            "Successfully installed SimpleITK-2.4.0 medpy-0.5.2\n"
          ]
        }
      ],
      "source": [
        "!pip install timm\n",
        "!pip install medpy"
      ]
    },
    {
      "cell_type": "code",
      "execution_count": null,
      "metadata": {
        "colab": {
          "base_uri": "https://localhost:8080/"
        },
        "id": "M9_6_ZzsHWU4",
        "outputId": "f81598f1-37bb-4ffb-95c8-d140f9f35e6b"
      },
      "outputs": [
        {
          "output_type": "stream",
          "name": "stdout",
          "text": [
            "Collecting torchmetrics\n",
            "  Downloading torchmetrics-1.5.1-py3-none-any.whl.metadata (20 kB)\n",
            "Requirement already satisfied: numpy<2.0,>1.20.0 in /usr/local/lib/python3.10/dist-packages (from torchmetrics) (1.26.4)\n",
            "Requirement already satisfied: packaging>17.1 in /usr/local/lib/python3.10/dist-packages (from torchmetrics) (24.1)\n",
            "Requirement already satisfied: torch>=1.10.0 in /usr/local/lib/python3.10/dist-packages (from torchmetrics) (1.13.0+cu116)\n",
            "Collecting lightning-utilities>=0.8.0 (from torchmetrics)\n",
            "  Downloading lightning_utilities-0.11.8-py3-none-any.whl.metadata (5.2 kB)\n",
            "Requirement already satisfied: setuptools in /usr/local/lib/python3.10/dist-packages (from lightning-utilities>=0.8.0->torchmetrics) (75.1.0)\n",
            "Requirement already satisfied: typing-extensions in /usr/local/lib/python3.10/dist-packages (from lightning-utilities>=0.8.0->torchmetrics) (4.12.2)\n",
            "Downloading torchmetrics-1.5.1-py3-none-any.whl (890 kB)\n",
            "\u001b[2K   \u001b[90m━━━━━━━━━━━━━━━━━━━━━━━━━━━━━━━━━━━━━━━━\u001b[0m \u001b[32m890.6/890.6 kB\u001b[0m \u001b[31m22.0 MB/s\u001b[0m eta \u001b[36m0:00:00\u001b[0m\n",
            "\u001b[?25hDownloading lightning_utilities-0.11.8-py3-none-any.whl (26 kB)\n",
            "Installing collected packages: lightning-utilities, torchmetrics\n",
            "Successfully installed lightning-utilities-0.11.8 torchmetrics-1.5.1\n",
            "Collecting pytorch-lightning\n",
            "  Downloading pytorch_lightning-2.4.0-py3-none-any.whl.metadata (21 kB)\n",
            "Collecting torch>=2.1.0 (from pytorch-lightning)\n",
            "  Downloading torch-2.5.1-cp310-cp310-manylinux1_x86_64.whl.metadata (28 kB)\n",
            "Requirement already satisfied: tqdm>=4.57.0 in /usr/local/lib/python3.10/dist-packages (from pytorch-lightning) (4.66.6)\n",
            "Requirement already satisfied: PyYAML>=5.4 in /usr/local/lib/python3.10/dist-packages (from pytorch-lightning) (6.0.2)\n",
            "Requirement already satisfied: fsspec>=2022.5.0 in /usr/local/lib/python3.10/dist-packages (from fsspec[http]>=2022.5.0->pytorch-lightning) (2024.10.0)\n",
            "Requirement already satisfied: torchmetrics>=0.7.0 in /usr/local/lib/python3.10/dist-packages (from pytorch-lightning) (1.5.1)\n",
            "Requirement already satisfied: packaging>=20.0 in /usr/local/lib/python3.10/dist-packages (from pytorch-lightning) (24.1)\n",
            "Requirement already satisfied: typing-extensions>=4.4.0 in /usr/local/lib/python3.10/dist-packages (from pytorch-lightning) (4.12.2)\n",
            "Requirement already satisfied: lightning-utilities>=0.10.0 in /usr/local/lib/python3.10/dist-packages (from pytorch-lightning) (0.11.8)\n",
            "Requirement already satisfied: aiohttp!=4.0.0a0,!=4.0.0a1 in /usr/local/lib/python3.10/dist-packages (from fsspec[http]>=2022.5.0->pytorch-lightning) (3.10.10)\n",
            "Requirement already satisfied: setuptools in /usr/local/lib/python3.10/dist-packages (from lightning-utilities>=0.10.0->pytorch-lightning) (75.1.0)\n",
            "Requirement already satisfied: filelock in /usr/local/lib/python3.10/dist-packages (from torch>=2.1.0->pytorch-lightning) (3.16.1)\n",
            "Requirement already satisfied: networkx in /usr/local/lib/python3.10/dist-packages (from torch>=2.1.0->pytorch-lightning) (3.4.2)\n",
            "Requirement already satisfied: jinja2 in /usr/local/lib/python3.10/dist-packages (from torch>=2.1.0->pytorch-lightning) (3.1.4)\n",
            "Collecting nvidia-cuda-nvrtc-cu12==12.4.127 (from torch>=2.1.0->pytorch-lightning)\n",
            "  Downloading nvidia_cuda_nvrtc_cu12-12.4.127-py3-none-manylinux2014_x86_64.whl.metadata (1.5 kB)\n",
            "Collecting nvidia-cuda-runtime-cu12==12.4.127 (from torch>=2.1.0->pytorch-lightning)\n",
            "  Downloading nvidia_cuda_runtime_cu12-12.4.127-py3-none-manylinux2014_x86_64.whl.metadata (1.5 kB)\n",
            "Collecting nvidia-cuda-cupti-cu12==12.4.127 (from torch>=2.1.0->pytorch-lightning)\n",
            "  Downloading nvidia_cuda_cupti_cu12-12.4.127-py3-none-manylinux2014_x86_64.whl.metadata (1.6 kB)\n",
            "Collecting nvidia-cudnn-cu12==9.1.0.70 (from torch>=2.1.0->pytorch-lightning)\n",
            "  Downloading nvidia_cudnn_cu12-9.1.0.70-py3-none-manylinux2014_x86_64.whl.metadata (1.6 kB)\n",
            "Collecting nvidia-cublas-cu12==12.4.5.8 (from torch>=2.1.0->pytorch-lightning)\n",
            "  Downloading nvidia_cublas_cu12-12.4.5.8-py3-none-manylinux2014_x86_64.whl.metadata (1.5 kB)\n",
            "Collecting nvidia-cufft-cu12==11.2.1.3 (from torch>=2.1.0->pytorch-lightning)\n",
            "  Downloading nvidia_cufft_cu12-11.2.1.3-py3-none-manylinux2014_x86_64.whl.metadata (1.5 kB)\n",
            "Collecting nvidia-curand-cu12==10.3.5.147 (from torch>=2.1.0->pytorch-lightning)\n",
            "  Downloading nvidia_curand_cu12-10.3.5.147-py3-none-manylinux2014_x86_64.whl.metadata (1.5 kB)\n",
            "Collecting nvidia-cusolver-cu12==11.6.1.9 (from torch>=2.1.0->pytorch-lightning)\n",
            "  Downloading nvidia_cusolver_cu12-11.6.1.9-py3-none-manylinux2014_x86_64.whl.metadata (1.6 kB)\n",
            "Collecting nvidia-cusparse-cu12==12.3.1.170 (from torch>=2.1.0->pytorch-lightning)\n",
            "  Downloading nvidia_cusparse_cu12-12.3.1.170-py3-none-manylinux2014_x86_64.whl.metadata (1.6 kB)\n",
            "Collecting nvidia-nccl-cu12==2.21.5 (from torch>=2.1.0->pytorch-lightning)\n",
            "  Downloading nvidia_nccl_cu12-2.21.5-py3-none-manylinux2014_x86_64.whl.metadata (1.8 kB)\n",
            "Collecting nvidia-nvtx-cu12==12.4.127 (from torch>=2.1.0->pytorch-lightning)\n",
            "  Downloading nvidia_nvtx_cu12-12.4.127-py3-none-manylinux2014_x86_64.whl.metadata (1.7 kB)\n",
            "Collecting nvidia-nvjitlink-cu12==12.4.127 (from torch>=2.1.0->pytorch-lightning)\n",
            "  Downloading nvidia_nvjitlink_cu12-12.4.127-py3-none-manylinux2014_x86_64.whl.metadata (1.5 kB)\n",
            "Collecting triton==3.1.0 (from torch>=2.1.0->pytorch-lightning)\n",
            "  Downloading triton-3.1.0-cp310-cp310-manylinux_2_17_x86_64.manylinux2014_x86_64.whl.metadata (1.3 kB)\n",
            "Requirement already satisfied: sympy==1.13.1 in /usr/local/lib/python3.10/dist-packages (from torch>=2.1.0->pytorch-lightning) (1.13.1)\n",
            "Requirement already satisfied: mpmath<1.4,>=1.1.0 in /usr/local/lib/python3.10/dist-packages (from sympy==1.13.1->torch>=2.1.0->pytorch-lightning) (1.3.0)\n",
            "Requirement already satisfied: numpy<2.0,>1.20.0 in /usr/local/lib/python3.10/dist-packages (from torchmetrics>=0.7.0->pytorch-lightning) (1.26.4)\n",
            "Requirement already satisfied: aiohappyeyeballs>=2.3.0 in /usr/local/lib/python3.10/dist-packages (from aiohttp!=4.0.0a0,!=4.0.0a1->fsspec[http]>=2022.5.0->pytorch-lightning) (2.4.3)\n",
            "Requirement already satisfied: aiosignal>=1.1.2 in /usr/local/lib/python3.10/dist-packages (from aiohttp!=4.0.0a0,!=4.0.0a1->fsspec[http]>=2022.5.0->pytorch-lightning) (1.3.1)\n",
            "Requirement already satisfied: attrs>=17.3.0 in /usr/local/lib/python3.10/dist-packages (from aiohttp!=4.0.0a0,!=4.0.0a1->fsspec[http]>=2022.5.0->pytorch-lightning) (24.2.0)\n",
            "Requirement already satisfied: frozenlist>=1.1.1 in /usr/local/lib/python3.10/dist-packages (from aiohttp!=4.0.0a0,!=4.0.0a1->fsspec[http]>=2022.5.0->pytorch-lightning) (1.5.0)\n",
            "Requirement already satisfied: multidict<7.0,>=4.5 in /usr/local/lib/python3.10/dist-packages (from aiohttp!=4.0.0a0,!=4.0.0a1->fsspec[http]>=2022.5.0->pytorch-lightning) (6.1.0)\n",
            "Requirement already satisfied: yarl<2.0,>=1.12.0 in /usr/local/lib/python3.10/dist-packages (from aiohttp!=4.0.0a0,!=4.0.0a1->fsspec[http]>=2022.5.0->pytorch-lightning) (1.17.0)\n",
            "Requirement already satisfied: async-timeout<5.0,>=4.0 in /usr/local/lib/python3.10/dist-packages (from aiohttp!=4.0.0a0,!=4.0.0a1->fsspec[http]>=2022.5.0->pytorch-lightning) (4.0.3)\n",
            "Requirement already satisfied: MarkupSafe>=2.0 in /usr/local/lib/python3.10/dist-packages (from jinja2->torch>=2.1.0->pytorch-lightning) (3.0.2)\n",
            "Requirement already satisfied: idna>=2.0 in /usr/local/lib/python3.10/dist-packages (from yarl<2.0,>=1.12.0->aiohttp!=4.0.0a0,!=4.0.0a1->fsspec[http]>=2022.5.0->pytorch-lightning) (3.10)\n",
            "Requirement already satisfied: propcache>=0.2.0 in /usr/local/lib/python3.10/dist-packages (from yarl<2.0,>=1.12.0->aiohttp!=4.0.0a0,!=4.0.0a1->fsspec[http]>=2022.5.0->pytorch-lightning) (0.2.0)\n",
            "Downloading pytorch_lightning-2.4.0-py3-none-any.whl (815 kB)\n",
            "\u001b[2K   \u001b[90m━━━━━━━━━━━━━━━━━━━━━━━━━━━━━━━━━━━━━━━━\u001b[0m \u001b[32m815.2/815.2 kB\u001b[0m \u001b[31m22.4 MB/s\u001b[0m eta \u001b[36m0:00:00\u001b[0m\n",
            "\u001b[?25hDownloading torch-2.5.1-cp310-cp310-manylinux1_x86_64.whl (906.4 MB)\n",
            "\u001b[2K   \u001b[90m━━━━━━━━━━━━━━━━━━━━━━━━━━━━━━━━━━━━━━━━\u001b[0m \u001b[32m906.4/906.4 MB\u001b[0m \u001b[31m2.2 MB/s\u001b[0m eta \u001b[36m0:00:00\u001b[0m\n",
            "\u001b[?25hDownloading nvidia_cublas_cu12-12.4.5.8-py3-none-manylinux2014_x86_64.whl (363.4 MB)\n",
            "\u001b[2K   \u001b[90m━━━━━━━━━━━━━━━━━━━━━━━━━━━━━━━━━━━━━━━━\u001b[0m \u001b[32m363.4/363.4 MB\u001b[0m \u001b[31m4.5 MB/s\u001b[0m eta \u001b[36m0:00:00\u001b[0m\n",
            "\u001b[?25hDownloading nvidia_cuda_cupti_cu12-12.4.127-py3-none-manylinux2014_x86_64.whl (13.8 MB)\n",
            "\u001b[2K   \u001b[90m━━━━━━━━━━━━━━━━━━━━━━━━━━━━━━━━━━━━━━━━\u001b[0m \u001b[32m13.8/13.8 MB\u001b[0m \u001b[31m72.2 MB/s\u001b[0m eta \u001b[36m0:00:00\u001b[0m\n",
            "\u001b[?25hDownloading nvidia_cuda_nvrtc_cu12-12.4.127-py3-none-manylinux2014_x86_64.whl (24.6 MB)\n",
            "\u001b[2K   \u001b[90m━━━━━━━━━━━━━━━━━━━━━━━━━━━━━━━━━━━━━━━━\u001b[0m \u001b[32m24.6/24.6 MB\u001b[0m \u001b[31m59.4 MB/s\u001b[0m eta \u001b[36m0:00:00\u001b[0m\n",
            "\u001b[?25hDownloading nvidia_cuda_runtime_cu12-12.4.127-py3-none-manylinux2014_x86_64.whl (883 kB)\n",
            "\u001b[2K   \u001b[90m━━━━━━━━━━━━━━━━━━━━━━━━━━━━━━━━━━━━━━━━\u001b[0m \u001b[32m883.7/883.7 kB\u001b[0m \u001b[31m44.6 MB/s\u001b[0m eta \u001b[36m0:00:00\u001b[0m\n",
            "\u001b[?25hDownloading nvidia_cudnn_cu12-9.1.0.70-py3-none-manylinux2014_x86_64.whl (664.8 MB)\n",
            "\u001b[2K   \u001b[90m━━━━━━━━━━━━━━━━━━━━━━━━━━━━━━━━━━━━━━━━\u001b[0m \u001b[32m664.8/664.8 MB\u001b[0m \u001b[31m2.7 MB/s\u001b[0m eta \u001b[36m0:00:00\u001b[0m\n",
            "\u001b[?25hDownloading nvidia_cufft_cu12-11.2.1.3-py3-none-manylinux2014_x86_64.whl (211.5 MB)\n",
            "\u001b[2K   \u001b[90m━━━━━━━━━━━━━━━━━━━━━━━━━━━━━━━━━━━━━━━━\u001b[0m \u001b[32m211.5/211.5 MB\u001b[0m \u001b[31m5.9 MB/s\u001b[0m eta \u001b[36m0:00:00\u001b[0m\n",
            "\u001b[?25hDownloading nvidia_curand_cu12-10.3.5.147-py3-none-manylinux2014_x86_64.whl (56.3 MB)\n",
            "\u001b[2K   \u001b[90m━━━━━━━━━━━━━━━━━━━━━━━━━━━━━━━━━━━━━━━━\u001b[0m \u001b[32m56.3/56.3 MB\u001b[0m \u001b[31m22.3 MB/s\u001b[0m eta \u001b[36m0:00:00\u001b[0m\n",
            "\u001b[?25hDownloading nvidia_cusolver_cu12-11.6.1.9-py3-none-manylinux2014_x86_64.whl (127.9 MB)\n",
            "\u001b[2K   \u001b[90m━━━━━━━━━━━━━━━━━━━━━━━━━━━━━━━━━━━━━━━━\u001b[0m \u001b[32m127.9/127.9 MB\u001b[0m \u001b[31m7.3 MB/s\u001b[0m eta \u001b[36m0:00:00\u001b[0m\n",
            "\u001b[?25hDownloading nvidia_cusparse_cu12-12.3.1.170-py3-none-manylinux2014_x86_64.whl (207.5 MB)\n",
            "\u001b[2K   \u001b[90m━━━━━━━━━━━━━━━━━━━━━━━━━━━━━━━━━━━━━━━━\u001b[0m \u001b[32m207.5/207.5 MB\u001b[0m \u001b[31m6.0 MB/s\u001b[0m eta \u001b[36m0:00:00\u001b[0m\n",
            "\u001b[?25hDownloading nvidia_nccl_cu12-2.21.5-py3-none-manylinux2014_x86_64.whl (188.7 MB)\n",
            "\u001b[2K   \u001b[90m━━━━━━━━━━━━━━━━━━━━━━━━━━━━━━━━━━━━━━━━\u001b[0m \u001b[32m188.7/188.7 MB\u001b[0m \u001b[31m6.8 MB/s\u001b[0m eta \u001b[36m0:00:00\u001b[0m\n",
            "\u001b[?25hDownloading nvidia_nvjitlink_cu12-12.4.127-py3-none-manylinux2014_x86_64.whl (21.1 MB)\n",
            "\u001b[2K   \u001b[90m━━━━━━━━━━━━━━━━━━━━━━━━━━━━━━━━━━━━━━━━\u001b[0m \u001b[32m21.1/21.1 MB\u001b[0m \u001b[31m66.4 MB/s\u001b[0m eta \u001b[36m0:00:00\u001b[0m\n",
            "\u001b[?25hDownloading nvidia_nvtx_cu12-12.4.127-py3-none-manylinux2014_x86_64.whl (99 kB)\n",
            "\u001b[2K   \u001b[90m━━━━━━━━━━━━━━━━━━━━━━━━━━━━━━━━━━━━━━━━\u001b[0m \u001b[32m99.1/99.1 kB\u001b[0m \u001b[31m9.9 MB/s\u001b[0m eta \u001b[36m0:00:00\u001b[0m\n",
            "\u001b[?25hDownloading triton-3.1.0-cp310-cp310-manylinux_2_17_x86_64.manylinux2014_x86_64.whl (209.5 MB)\n",
            "\u001b[2K   \u001b[90m━━━━━━━━━━━━━━━━━━━━━━━━━━━━━━━━━━━━━━━━\u001b[0m \u001b[32m209.5/209.5 MB\u001b[0m \u001b[31m6.3 MB/s\u001b[0m eta \u001b[36m0:00:00\u001b[0m\n",
            "\u001b[?25hInstalling collected packages: triton, nvidia-nvtx-cu12, nvidia-nvjitlink-cu12, nvidia-nccl-cu12, nvidia-curand-cu12, nvidia-cufft-cu12, nvidia-cuda-runtime-cu12, nvidia-cuda-nvrtc-cu12, nvidia-cuda-cupti-cu12, nvidia-cublas-cu12, nvidia-cusparse-cu12, nvidia-cudnn-cu12, nvidia-cusolver-cu12, torch, pytorch-lightning\n",
            "  Attempting uninstall: nvidia-nvjitlink-cu12\n",
            "    Found existing installation: nvidia-nvjitlink-cu12 12.6.77\n",
            "    Uninstalling nvidia-nvjitlink-cu12-12.6.77:\n",
            "      Successfully uninstalled nvidia-nvjitlink-cu12-12.6.77\n",
            "  Attempting uninstall: nvidia-nccl-cu12\n",
            "    Found existing installation: nvidia-nccl-cu12 2.23.4\n",
            "    Uninstalling nvidia-nccl-cu12-2.23.4:\n",
            "      Successfully uninstalled nvidia-nccl-cu12-2.23.4\n",
            "  Attempting uninstall: nvidia-curand-cu12\n",
            "    Found existing installation: nvidia-curand-cu12 10.3.7.77\n",
            "    Uninstalling nvidia-curand-cu12-10.3.7.77:\n",
            "      Successfully uninstalled nvidia-curand-cu12-10.3.7.77\n",
            "  Attempting uninstall: nvidia-cufft-cu12\n",
            "    Found existing installation: nvidia-cufft-cu12 11.3.0.4\n",
            "    Uninstalling nvidia-cufft-cu12-11.3.0.4:\n",
            "      Successfully uninstalled nvidia-cufft-cu12-11.3.0.4\n",
            "  Attempting uninstall: nvidia-cuda-runtime-cu12\n",
            "    Found existing installation: nvidia-cuda-runtime-cu12 12.6.77\n",
            "    Uninstalling nvidia-cuda-runtime-cu12-12.6.77:\n",
            "      Successfully uninstalled nvidia-cuda-runtime-cu12-12.6.77\n",
            "  Attempting uninstall: nvidia-cuda-cupti-cu12\n",
            "    Found existing installation: nvidia-cuda-cupti-cu12 12.6.80\n",
            "    Uninstalling nvidia-cuda-cupti-cu12-12.6.80:\n",
            "      Successfully uninstalled nvidia-cuda-cupti-cu12-12.6.80\n",
            "  Attempting uninstall: nvidia-cublas-cu12\n",
            "    Found existing installation: nvidia-cublas-cu12 12.6.3.3\n",
            "    Uninstalling nvidia-cublas-cu12-12.6.3.3:\n",
            "      Successfully uninstalled nvidia-cublas-cu12-12.6.3.3\n",
            "  Attempting uninstall: nvidia-cusparse-cu12\n",
            "    Found existing installation: nvidia-cusparse-cu12 12.5.4.2\n",
            "    Uninstalling nvidia-cusparse-cu12-12.5.4.2:\n",
            "      Successfully uninstalled nvidia-cusparse-cu12-12.5.4.2\n",
            "  Attempting uninstall: nvidia-cudnn-cu12\n",
            "    Found existing installation: nvidia-cudnn-cu12 9.5.1.17\n",
            "    Uninstalling nvidia-cudnn-cu12-9.5.1.17:\n",
            "      Successfully uninstalled nvidia-cudnn-cu12-9.5.1.17\n",
            "  Attempting uninstall: nvidia-cusolver-cu12\n",
            "    Found existing installation: nvidia-cusolver-cu12 11.7.1.2\n",
            "    Uninstalling nvidia-cusolver-cu12-11.7.1.2:\n",
            "      Successfully uninstalled nvidia-cusolver-cu12-11.7.1.2\n",
            "  Attempting uninstall: torch\n",
            "    Found existing installation: torch 1.13.0+cu116\n",
            "    Uninstalling torch-1.13.0+cu116:\n",
            "      Successfully uninstalled torch-1.13.0+cu116\n",
            "\u001b[31mERROR: pip's dependency resolver does not currently take into account all the packages that are installed. This behaviour is the source of the following dependency conflicts.\n",
            "torchaudio 0.13.0+cu116 requires torch==1.13.0, but you have torch 2.5.1 which is incompatible.\n",
            "torchvision 0.14.0+cu116 requires torch==1.13.0, but you have torch 2.5.1 which is incompatible.\u001b[0m\u001b[31m\n",
            "\u001b[0mSuccessfully installed nvidia-cublas-cu12-12.4.5.8 nvidia-cuda-cupti-cu12-12.4.127 nvidia-cuda-nvrtc-cu12-12.4.127 nvidia-cuda-runtime-cu12-12.4.127 nvidia-cudnn-cu12-9.1.0.70 nvidia-cufft-cu12-11.2.1.3 nvidia-curand-cu12-10.3.5.147 nvidia-cusolver-cu12-11.6.1.9 nvidia-cusparse-cu12-12.3.1.170 nvidia-nccl-cu12-2.21.5 nvidia-nvjitlink-cu12-12.4.127 nvidia-nvtx-cu12-12.4.127 pytorch-lightning-2.4.0 torch-2.5.1 triton-3.1.0\n",
            "Requirement already satisfied: torchsummary in /usr/local/lib/python3.10/dist-packages (1.5.1)\n",
            "Requirement already satisfied: tensorboard in /usr/local/lib/python3.10/dist-packages (2.17.0)\n",
            "Requirement already satisfied: absl-py>=0.4 in /usr/local/lib/python3.10/dist-packages (from tensorboard) (1.4.0)\n",
            "Requirement already satisfied: grpcio>=1.48.2 in /usr/local/lib/python3.10/dist-packages (from tensorboard) (1.64.1)\n",
            "Requirement already satisfied: markdown>=2.6.8 in /usr/local/lib/python3.10/dist-packages (from tensorboard) (3.7)\n",
            "Requirement already satisfied: numpy>=1.12.0 in /usr/local/lib/python3.10/dist-packages (from tensorboard) (1.26.4)\n",
            "Requirement already satisfied: protobuf!=4.24.0,<5.0.0,>=3.19.6 in /usr/local/lib/python3.10/dist-packages (from tensorboard) (3.20.3)\n",
            "Requirement already satisfied: setuptools>=41.0.0 in /usr/local/lib/python3.10/dist-packages (from tensorboard) (75.1.0)\n",
            "Requirement already satisfied: six>1.9 in /usr/local/lib/python3.10/dist-packages (from tensorboard) (1.16.0)\n",
            "Requirement already satisfied: tensorboard-data-server<0.8.0,>=0.7.0 in /usr/local/lib/python3.10/dist-packages (from tensorboard) (0.7.2)\n",
            "Requirement already satisfied: werkzeug>=1.0.1 in /usr/local/lib/python3.10/dist-packages (from tensorboard) (3.0.6)\n",
            "Requirement already satisfied: MarkupSafe>=2.1.1 in /usr/local/lib/python3.10/dist-packages (from werkzeug>=1.0.1->tensorboard) (3.0.2)\n",
            "Collecting tensorboardX\n",
            "  Using cached tensorboardX-2.6.2.2-py2.py3-none-any.whl.metadata (5.8 kB)\n",
            "Requirement already satisfied: numpy in /usr/local/lib/python3.10/dist-packages (from tensorboardX) (1.26.4)\n",
            "Requirement already satisfied: packaging in /usr/local/lib/python3.10/dist-packages (from tensorboardX) (24.1)\n",
            "Requirement already satisfied: protobuf>=3.20 in /usr/local/lib/python3.10/dist-packages (from tensorboardX) (3.20.3)\n",
            "Downloading tensorboardX-2.6.2.2-py2.py3-none-any.whl (101 kB)\n",
            "\u001b[2K   \u001b[90m━━━━━━━━━━━━━━━━━━━━━━━━━━━━━━━━━━━━━━━━\u001b[0m \u001b[32m101.7/101.7 kB\u001b[0m \u001b[31m4.1 MB/s\u001b[0m eta \u001b[36m0:00:00\u001b[0m\n",
            "\u001b[?25hInstalling collected packages: tensorboardX\n",
            "Successfully installed tensorboardX-2.6.2.2\n"
          ]
        }
      ],
      "source": [
        "!pip install torchmetrics\n",
        "!pip install pytorch-lightning\n",
        "!pip install torchsummary\n",
        "!pip install tensorboard\n",
        "!pip install tensorboardX\n"
      ]
    },
    {
      "cell_type": "code",
      "execution_count": null,
      "metadata": {
        "colab": {
          "base_uri": "https://localhost:8080/"
        },
        "id": "WAqQgqNLikqH",
        "outputId": "e09c95a0-70a6-4fa7-cbb3-e2ebc09e9207"
      },
      "outputs": [
        {
          "output_type": "stream",
          "name": "stdout",
          "text": [
            "Collecting yacs\n",
            "  Downloading yacs-0.1.8-py3-none-any.whl.metadata (639 bytes)\n",
            "Requirement already satisfied: PyYAML in /usr/local/lib/python3.10/dist-packages (from yacs) (6.0.2)\n",
            "Downloading yacs-0.1.8-py3-none-any.whl (14 kB)\n",
            "Installing collected packages: yacs\n",
            "Successfully installed yacs-0.1.8\n"
          ]
        }
      ],
      "source": [
        "!pip install yacs"
      ]
    },
    {
      "cell_type": "code",
      "execution_count": null,
      "metadata": {
        "id": "Sw4gZJPRiysK"
      },
      "outputs": [],
      "source": [
        "!python config.py"
      ]
    },
    {
      "cell_type": "code",
      "execution_count": null,
      "metadata": {
        "id": "jjMNojxPi3s9"
      },
      "outputs": [],
      "source": [
        "!python dataset.py"
      ]
    },
    {
      "cell_type": "code",
      "execution_count": null,
      "metadata": {
        "id": "r_nBpSoti8AG"
      },
      "outputs": [],
      "source": [
        "!python kan.py"
      ]
    },
    {
      "cell_type": "code",
      "execution_count": null,
      "metadata": {
        "colab": {
          "base_uri": "https://localhost:8080/"
        },
        "id": "rJOGzszvmm6a",
        "outputId": "8d4612f4-8a21-4523-f698-5fd2c4faf186"
      },
      "outputs": [
        {
          "output_type": "stream",
          "name": "stdout",
          "text": [
            "/usr/local/lib/python3.10/dist-packages/albumentations/__init__.py:24: UserWarning: A new version of Albumentations is available: 1.4.21 (you have 1.4.20). Upgrade using: pip install -U albumentations. To disable automatic update checks, set the environment variable NO_ALBUMENTATIONS_UPDATE to 1.\n",
            "  check_for_updates()\n",
            "/usr/local/lib/python3.10/dist-packages/torchvision/io/image.py:13: UserWarning: Failed to load image Python extension: libtorch_cuda_cu.so: cannot open shared object file: No such file or directory\n",
            "  warn(f\"Failed to load image Python extension: {e}\")\n",
            "/usr/local/lib/python3.10/dist-packages/timm/models/layers/__init__.py:48: FutureWarning: Importing from timm.models.layers is deprecated, please import via timm.layers\n",
            "  warnings.warn(f\"Importing from {__name__} is deprecated, please import via timm.layers\", FutureWarning)\n",
            "--------------------\n",
            "name: glas_UKAN\n",
            "epochs: 30\n",
            "batch_size: 8\n",
            "dataseed: 2981\n",
            "arch: UKAN\n",
            "deep_supervision: False\n",
            "input_channels: 3\n",
            "num_classes: 1\n",
            "input_w: 256\n",
            "input_h: 256\n",
            "input_list: [128, 160, 256]\n",
            "loss: BCEDiceLoss\n",
            "dataset: glas\n",
            "data_dir: /content/drive/MyDrive/\n",
            "output_dir: /content/drive/MyDrive/glas_output_unet\n",
            "optimizer: Adam\n",
            "lr: 0.0001\n",
            "momentum: 0.9\n",
            "weight_decay: 0.0001\n",
            "nesterov: False\n",
            "kan_lr: 0.01\n",
            "kan_weight_decay: 0.0001\n",
            "scheduler: CosineAnnealingLR\n",
            "min_lr: 1e-05\n",
            "factor: 0.1\n",
            "patience: 2\n",
            "milestones: 1,2\n",
            "gamma: 0.6666666666666666\n",
            "early_stopping: -1\n",
            "cfg: None\n",
            "num_workers: 4\n",
            "no_kan: False\n",
            "--------------------\n",
            "/content/U-KAN/Seg_UKAN/train.py:340: DeprecationWarning: Flip is deprecated. Consider using HorizontalFlip, VerticalFlip, RandomRotate90 or D4.\n",
            "  geometric.transforms.Flip(),\n",
            "/usr/local/lib/python3.10/dist-packages/torch/utils/data/dataloader.py:617: UserWarning: This DataLoader will create 4 worker processes in total. Our suggested max number of worker in current system is 2, which is smaller than what this DataLoader is going to create. Please be aware that excessive worker creation might get DataLoader running slow or even freeze, lower the worker number to avoid potential slowness/freeze if necessary.\n",
            "  warnings.warn(\n",
            "Epoch [0/30]\n",
            "100% 16/16 [00:30<00:00,  1.88s/it, loss=0.815, iou=0.417]\n",
            "100% 5/5 [00:02<00:00,  2.06it/s, loss=0.865, iou=3.81e-5, dice=7.62e-5]\n",
            "loss 0.8151 - iou 0.4169 - val_loss 0.8649 - val_iou 0.0000\n",
            "=> saved best model\n",
            "IoU: 0.0000\n",
            "Dice: 0.0001\n",
            "Epoch [1/30]\n",
            "100% 16/16 [00:20<00:00,  1.31s/it, loss=0.732, iou=0.577]\n",
            "100% 5/5 [00:02<00:00,  2.18it/s, loss=0.842, iou=0.462, dice=0.632]\n",
            "loss 0.7318 - iou 0.5772 - val_loss 0.8425 - val_iou 0.4624\n",
            "=> saved best model\n",
            "IoU: 0.4624\n",
            "Dice: 0.6318\n",
            "Epoch [2/30]\n",
            "100% 16/16 [00:23<00:00,  1.44s/it, loss=0.675, iou=0.629]\n",
            "100% 5/5 [00:02<00:00,  2.03it/s, loss=0.828, iou=0.477, dice=0.645]\n",
            "loss 0.6746 - iou 0.6286 - val_loss 0.8283 - val_iou 0.4773\n",
            "=> saved best model\n",
            "IoU: 0.4773\n",
            "Dice: 0.6455\n",
            "Epoch [3/30]\n",
            "100% 16/16 [00:20<00:00,  1.31s/it, loss=0.628, iou=0.669]\n",
            "100% 5/5 [00:02<00:00,  2.05it/s, loss=0.815, iou=0.508, dice=0.673]\n",
            "loss 0.6276 - iou 0.6694 - val_loss 0.8149 - val_iou 0.5083\n",
            "=> saved best model\n",
            "IoU: 0.5083\n",
            "Dice: 0.6735\n",
            "Epoch [4/30]\n",
            "100% 16/16 [00:22<00:00,  1.39s/it, loss=0.599, iou=0.69]\n",
            "100% 5/5 [00:02<00:00,  2.02it/s, loss=0.807, iou=0.513, dice=0.678]\n",
            "loss 0.5988 - iou 0.6895 - val_loss 0.8067 - val_iou 0.5134\n",
            "=> saved best model\n",
            "IoU: 0.5134\n",
            "Dice: 0.6779\n",
            "Epoch [5/30]\n",
            "100% 16/16 [00:20<00:00,  1.30s/it, loss=0.574, iou=0.704]\n",
            "100% 5/5 [00:02<00:00,  2.19it/s, loss=0.779, iou=0.517, dice=0.681]\n",
            "loss 0.5742 - iou 0.7043 - val_loss 0.7790 - val_iou 0.5166\n",
            "=> saved best model\n",
            "IoU: 0.5166\n",
            "Dice: 0.6806\n",
            "Epoch [6/30]\n",
            "100% 16/16 [00:21<00:00,  1.36s/it, loss=0.558, iou=0.717]\n",
            "100% 5/5 [00:02<00:00,  1.80it/s, loss=0.697, iou=0.582, dice=0.734]\n",
            "loss 0.5583 - iou 0.7172 - val_loss 0.6969 - val_iou 0.5824\n",
            "=> saved best model\n",
            "IoU: 0.5824\n",
            "Dice: 0.7341\n",
            "Epoch [7/30]\n",
            "100% 16/16 [00:20<00:00,  1.30s/it, loss=0.531, iou=0.741]\n",
            "100% 5/5 [00:02<00:00,  2.20it/s, loss=0.655, iou=0.649, dice=0.786]\n",
            "loss 0.5310 - iou 0.7415 - val_loss 0.6554 - val_iou 0.6486\n",
            "=> saved best model\n",
            "IoU: 0.6486\n",
            "Dice: 0.7858\n",
            "Epoch [8/30]\n",
            "100% 16/16 [00:21<00:00,  1.37s/it, loss=0.514, iou=0.766]\n",
            "100% 5/5 [00:02<00:00,  1.83it/s, loss=0.626, iou=0.669, dice=0.801]\n",
            "loss 0.5141 - iou 0.7658 - val_loss 0.6257 - val_iou 0.6693\n",
            "=> saved best model\n",
            "IoU: 0.6693\n",
            "Dice: 0.8009\n",
            "Epoch [9/30]\n",
            "100% 16/16 [00:20<00:00,  1.29s/it, loss=0.506, iou=0.763]\n",
            "100% 5/5 [00:02<00:00,  2.20it/s, loss=0.631, iou=0.644, dice=0.782]\n",
            "loss 0.5060 - iou 0.7627 - val_loss 0.6308 - val_iou 0.6441\n",
            "Epoch [10/30]\n",
            "100% 16/16 [00:21<00:00,  1.37s/it, loss=0.499, iou=0.772]\n",
            "100% 5/5 [00:03<00:00,  1.39it/s, loss=0.599, iou=0.662, dice=0.796]\n",
            "loss 0.4987 - iou 0.7722 - val_loss 0.5990 - val_iou 0.6619\n",
            "Epoch [11/30]\n",
            "100% 16/16 [00:20<00:00,  1.28s/it, loss=0.497, iou=0.768]\n",
            "100% 5/5 [00:02<00:00,  2.24it/s, loss=0.574, iou=0.684, dice=0.811]\n",
            "loss 0.4968 - iou 0.7679 - val_loss 0.5738 - val_iou 0.6837\n",
            "=> saved best model\n",
            "IoU: 0.6837\n",
            "Dice: 0.8114\n",
            "Epoch [12/30]\n",
            "100% 16/16 [00:20<00:00,  1.30s/it, loss=0.481, iou=0.787]\n",
            "100% 5/5 [00:03<00:00,  1.48it/s, loss=0.54, iou=0.725, dice=0.84]\n",
            "loss 0.4808 - iou 0.7870 - val_loss 0.5395 - val_iou 0.7249\n",
            "=> saved best model\n",
            "IoU: 0.7249\n",
            "Dice: 0.8400\n",
            "Epoch [13/30]\n",
            "100% 16/16 [00:20<00:00,  1.28s/it, loss=0.469, iou=0.795]\n",
            "100% 5/5 [00:02<00:00,  2.16it/s, loss=0.546, iou=0.722, dice=0.838]\n",
            "loss 0.4693 - iou 0.7951 - val_loss 0.5458 - val_iou 0.7224\n",
            "Epoch [14/30]\n",
            "100% 16/16 [00:20<00:00,  1.30s/it, loss=0.47, iou=0.79]\n",
            "100% 5/5 [00:02<00:00,  1.69it/s, loss=0.535, iou=0.724, dice=0.839]\n",
            "loss 0.4696 - iou 0.7898 - val_loss 0.5355 - val_iou 0.7239\n",
            "Epoch [15/30]\n",
            "100% 16/16 [00:22<00:00,  1.40s/it, loss=0.462, iou=0.794]\n",
            "100% 5/5 [00:02<00:00,  2.26it/s, loss=0.535, iou=0.736, dice=0.847]\n",
            "loss 0.4622 - iou 0.7942 - val_loss 0.5350 - val_iou 0.7365\n",
            "=> saved best model\n",
            "IoU: 0.7365\n",
            "Dice: 0.8472\n",
            "Epoch [16/30]\n",
            "100% 16/16 [00:20<00:00,  1.30s/it, loss=0.452, iou=0.806]\n",
            "100% 5/5 [00:02<00:00,  2.12it/s, loss=0.517, iou=0.747, dice=0.854]\n",
            "loss 0.4523 - iou 0.8065 - val_loss 0.5170 - val_iou 0.7466\n",
            "=> saved best model\n",
            "IoU: 0.7466\n",
            "Dice: 0.8538\n",
            "Epoch [17/30]\n",
            "100% 16/16 [00:22<00:00,  1.38s/it, loss=0.448, iou=0.81]\n",
            "100% 5/5 [00:02<00:00,  2.22it/s, loss=0.494, iou=0.759, dice=0.863]\n",
            "loss 0.4481 - iou 0.8097 - val_loss 0.4942 - val_iou 0.7594\n",
            "=> saved best model\n",
            "IoU: 0.7594\n",
            "Dice: 0.8627\n",
            "Epoch [18/30]\n",
            "100% 16/16 [00:20<00:00,  1.29s/it, loss=0.437, iou=0.826]\n",
            "100% 5/5 [00:02<00:00,  2.18it/s, loss=0.488, iou=0.773, dice=0.871]\n",
            "loss 0.4365 - iou 0.8256 - val_loss 0.4880 - val_iou 0.7730\n",
            "=> saved best model\n",
            "IoU: 0.7730\n",
            "Dice: 0.8711\n",
            "Epoch [19/30]\n",
            "100% 16/16 [00:22<00:00,  1.38s/it, loss=0.434, iou=0.825]\n",
            "100% 5/5 [00:02<00:00,  2.15it/s, loss=0.47, iou=0.78, dice=0.876]\n",
            "loss 0.4340 - iou 0.8245 - val_loss 0.4698 - val_iou 0.7805\n",
            "=> saved best model\n",
            "IoU: 0.7805\n",
            "Dice: 0.8760\n",
            "Epoch [20/30]\n",
            "100% 16/16 [00:20<00:00,  1.29s/it, loss=0.432, iou=0.826]\n",
            "100% 5/5 [00:02<00:00,  2.22it/s, loss=0.456, iou=0.798, dice=0.887]\n",
            "loss 0.4317 - iou 0.8264 - val_loss 0.4564 - val_iou 0.7976\n",
            "=> saved best model\n",
            "IoU: 0.7976\n",
            "Dice: 0.8870\n",
            "Epoch [21/30]\n",
            "100% 16/16 [00:21<00:00,  1.35s/it, loss=0.424, iou=0.835]\n",
            "100% 5/5 [00:02<00:00,  2.05it/s, loss=0.45, iou=0.791, dice=0.883]\n",
            "loss 0.4239 - iou 0.8354 - val_loss 0.4501 - val_iou 0.7909\n",
            "Epoch [22/30]\n",
            "100% 16/16 [00:20<00:00,  1.29s/it, loss=0.415, iou=0.85]\n",
            "100% 5/5 [00:02<00:00,  2.18it/s, loss=0.446, iou=0.799, dice=0.888]\n",
            "loss 0.4146 - iou 0.8498 - val_loss 0.4457 - val_iou 0.7990\n",
            "=> saved best model\n",
            "IoU: 0.7990\n",
            "Dice: 0.8877\n",
            "Epoch [23/30]\n",
            "100% 16/16 [00:22<00:00,  1.38s/it, loss=0.41, iou=0.85]\n",
            "100% 5/5 [00:02<00:00,  2.16it/s, loss=0.438, iou=0.81, dice=0.895]\n",
            "loss 0.4096 - iou 0.8504 - val_loss 0.4385 - val_iou 0.8104\n",
            "=> saved best model\n",
            "IoU: 0.8104\n",
            "Dice: 0.8949\n",
            "Epoch [24/30]\n",
            "100% 16/16 [00:20<00:00,  1.30s/it, loss=0.414, iou=0.844]\n",
            "100% 5/5 [00:02<00:00,  2.20it/s, loss=0.436, iou=0.809, dice=0.894]\n",
            "loss 0.4143 - iou 0.8442 - val_loss 0.4356 - val_iou 0.8086\n",
            "Epoch [25/30]\n",
            "100% 16/16 [00:21<00:00,  1.36s/it, loss=0.401, iou=0.864]\n",
            "100% 5/5 [00:03<00:00,  1.39it/s, loss=0.438, iou=0.811, dice=0.895]\n",
            "loss 0.4005 - iou 0.8644 - val_loss 0.4375 - val_iou 0.8111\n",
            "=> saved best model\n",
            "IoU: 0.8111\n",
            "Dice: 0.8953\n",
            "Epoch [26/30]\n",
            "100% 16/16 [00:20<00:00,  1.26s/it, loss=0.409, iou=0.851]\n",
            "100% 5/5 [00:02<00:00,  2.22it/s, loss=0.427, iou=0.814, dice=0.897]\n",
            "loss 0.4089 - iou 0.8510 - val_loss 0.4273 - val_iou 0.8144\n",
            "=> saved best model\n",
            "IoU: 0.8144\n",
            "Dice: 0.8974\n",
            "Epoch [27/30]\n",
            "100% 16/16 [00:21<00:00,  1.33s/it, loss=0.411, iou=0.844]\n",
            "100% 5/5 [00:03<00:00,  1.44it/s, loss=0.424, iou=0.818, dice=0.899]\n",
            "loss 0.4113 - iou 0.8441 - val_loss 0.4239 - val_iou 0.8177\n",
            "=> saved best model\n",
            "IoU: 0.8177\n",
            "Dice: 0.8994\n",
            "Epoch [28/30]\n",
            "100% 16/16 [00:20<00:00,  1.29s/it, loss=0.397, iou=0.868]\n",
            "100% 5/5 [00:02<00:00,  2.20it/s, loss=0.429, iou=0.82, dice=0.901]\n",
            "loss 0.3966 - iou 0.8679 - val_loss 0.4287 - val_iou 0.8198\n",
            "=> saved best model\n",
            "IoU: 0.8198\n",
            "Dice: 0.9006\n",
            "Epoch [29/30]\n",
            "100% 16/16 [00:20<00:00,  1.30s/it, loss=0.402, iou=0.859]\n",
            "100% 5/5 [00:03<00:00,  1.45it/s, loss=0.426, iou=0.822, dice=0.902]\n",
            "loss 0.4016 - iou 0.8592 - val_loss 0.4257 - val_iou 0.8219\n",
            "=> saved best model\n",
            "IoU: 0.8219\n",
            "Dice: 0.9019\n",
            "/usr/local/lib/python3.10/dist-packages/albumentations/__init__.py:24: UserWarning: A new version of Albumentations is available: 1.4.21 (you have 1.4.20). Upgrade using: pip install -U albumentations. To disable automatic update checks, set the environment variable NO_ALBUMENTATIONS_UPDATE to 1.\n",
            "  check_for_updates()\n",
            "/usr/local/lib/python3.10/dist-packages/torchvision/io/image.py:13: UserWarning: Failed to load image Python extension: libtorch_cuda_cu.so: cannot open shared object file: No such file or directory\n",
            "  warn(f\"Failed to load image Python extension: {e}\")\n",
            "/usr/local/lib/python3.10/dist-packages/timm/models/layers/__init__.py:48: FutureWarning: Importing from timm.models.layers is deprecated, please import via timm.layers\n",
            "  warnings.warn(f\"Importing from {__name__} is deprecated, please import via timm.layers\", FutureWarning)\n",
            "--------------------\n",
            "arch: UKAN\n",
            "batch_size: 8\n",
            "cfg: None\n",
            "data_dir: /content/drive/MyDrive/\n",
            "dataseed: 2981\n",
            "dataset: glas\n",
            "deep_supervision: False\n",
            "early_stopping: -1\n",
            "epochs: 30\n",
            "factor: 0.1\n",
            "gamma: 0.6666666666666666\n",
            "input_channels: 3\n",
            "input_h: 256\n",
            "input_list: [128, 160, 256]\n",
            "input_w: 256\n",
            "kan_lr: 0.01\n",
            "kan_weight_decay: 0.0001\n",
            "loss: BCEDiceLoss\n",
            "lr: 0.0001\n",
            "milestones: 1,2\n",
            "min_lr: 1e-05\n",
            "momentum: 0.9\n",
            "name: glas_UKAN\n",
            "nesterov: False\n",
            "no_kan: False\n",
            "num_classes: 1\n",
            "num_workers: 4\n",
            "optimizer: Adam\n",
            "output_dir: /content/drive/MyDrive/glas_output_unet\n",
            "patience: 2\n",
            "scheduler: CosineAnnealingLR\n",
            "weight_decay: 0.0001\n",
            "--------------------\n",
            "/content/U-KAN/Seg_UKAN/val.py:84: FutureWarning: You are using `torch.load` with `weights_only=False` (the current default value), which uses the default pickle module implicitly. It is possible to construct malicious pickle data which will execute arbitrary code during unpickling (See https://github.com/pytorch/pytorch/blob/main/SECURITY.md#untrusted-models for more details). In a future release, the default value for `weights_only` will be flipped to `True`. This limits the functions that could be executed during unpickling. Arbitrary objects will no longer be allowed to be loaded via this mode unless they are explicitly allowlisted by the user via `torch.serialization.add_safe_globals`. We recommend you start setting `weights_only=True` for any use case where you don't have full control of the loaded file. Please open an issue on GitHub for any issues related to this experimental feature.\n",
            "  ckpt = torch.load(f'{args.output_dir}/{args.name}/model.pth')\n",
            "/usr/local/lib/python3.10/dist-packages/torch/utils/data/dataloader.py:617: UserWarning: This DataLoader will create 4 worker processes in total. Our suggested max number of worker in current system is 2, which is smaller than what this DataLoader is going to create. Please be aware that excessive worker creation might get DataLoader running slow or even freeze, lower the worker number to avoid potential slowness/freeze if necessary.\n",
            "  warnings.warn(\n",
            "100% 5/5 [00:03<00:00,  1.28it/s]\n",
            "glas_UKAN\n",
            "IoU: 0.8219\n",
            "Dice: 0.9019\n",
            "HD95: 1.1840\n"
          ]
        }
      ],
      "source": [
        "dataset_dir = '/content/drive/MyDrive/'\n",
        "dataset = 'glas'\n",
        "input_size = 256\n",
        "outputs_dir = '/content/drive/MyDrive/glas_output_unet'\n",
        "# Training command\n",
        "!python train.py --arch UKAN --dataset {dataset} --input_w {input_size} --input_h {input_size} --name {dataset}_UKAN --data_dir {dataset_dir} --output_dir {outputs_dir}\n",
        "\n",
        "# Validation command\n",
        "!python val.py --name {dataset}_UKAN --output_dir {outputs_dir}"
      ]
    }
  ],
  "metadata": {
    "accelerator": "GPU",
    "colab": {
      "gpuType": "T4",
      "provenance": []
    },
    "kernelspec": {
      "display_name": "Python 3",
      "name": "python3"
    },
    "language_info": {
      "name": "python"
    }
  },
  "nbformat": 4,
  "nbformat_minor": 0
}