{
  "nbformat": 4,
  "nbformat_minor": 0,
  "metadata": {
    "colab": {
      "provenance": [],
      "gpuType": "T4"
    },
    "kernelspec": {
      "name": "python3",
      "display_name": "Python 3"
    },
    "language_info": {
      "name": "python"
    },
    "accelerator": "GPU"
  },
  "cells": [
    {
      "cell_type": "code",
      "execution_count": null,
      "metadata": {
        "id": "YznAP2sC13rZ",
        "colab": {
          "base_uri": "https://localhost:8080/"
        },
        "outputId": "d680ea0a-351d-4460-e435-8ff839d866ed"
      },
      "outputs": [
        {
          "output_type": "stream",
          "name": "stdout",
          "text": [
            "Requirement already satisfied: albumentations in /usr/local/lib/python3.10/dist-packages (1.4.20)\n",
            "Requirement already satisfied: numpy>=1.24.4 in /usr/local/lib/python3.10/dist-packages (from albumentations) (1.26.4)\n",
            "Requirement already satisfied: scipy>=1.10.0 in /usr/local/lib/python3.10/dist-packages (from albumentations) (1.13.1)\n",
            "Requirement already satisfied: PyYAML in /usr/local/lib/python3.10/dist-packages (from albumentations) (6.0.2)\n",
            "Requirement already satisfied: pydantic>=2.7.0 in /usr/local/lib/python3.10/dist-packages (from albumentations) (2.9.2)\n",
            "Requirement already satisfied: albucore==0.0.19 in /usr/local/lib/python3.10/dist-packages (from albumentations) (0.0.19)\n",
            "Requirement already satisfied: eval-type-backport in /usr/local/lib/python3.10/dist-packages (from albumentations) (0.2.0)\n",
            "Requirement already satisfied: opencv-python-headless>=4.9.0.80 in /usr/local/lib/python3.10/dist-packages (from albumentations) (4.10.0.84)\n",
            "Requirement already satisfied: stringzilla>=3.10.4 in /usr/local/lib/python3.10/dist-packages (from albucore==0.0.19->albumentations) (3.10.6)\n",
            "Requirement already satisfied: annotated-types>=0.6.0 in /usr/local/lib/python3.10/dist-packages (from pydantic>=2.7.0->albumentations) (0.7.0)\n",
            "Requirement already satisfied: pydantic-core==2.23.4 in /usr/local/lib/python3.10/dist-packages (from pydantic>=2.7.0->albumentations) (2.23.4)\n",
            "Requirement already satisfied: typing-extensions>=4.6.1 in /usr/local/lib/python3.10/dist-packages (from pydantic>=2.7.0->albumentations) (4.12.2)\n"
          ]
        }
      ],
      "source": [
        "!pip install albumentations"
      ]
    },
    {
      "cell_type": "code",
      "source": [
        "from google.colab import drive\n",
        "drive.mount('/content/drive')"
      ],
      "metadata": {
        "id": "u483Bz9O-hXP",
        "colab": {
          "base_uri": "https://localhost:8080/"
        },
        "outputId": "847e00bd-4901-4d9e-9f1d-2c0d5e3cba8d"
      },
      "execution_count": null,
      "outputs": [
        {
          "output_type": "stream",
          "name": "stdout",
          "text": [
            "Mounted at /content/drive\n"
          ]
        }
      ]
    },
    {
      "cell_type": "code",
      "source": [
        "!git clone https://github.com/4uiiurz1/pytorch-nested-unet.git\n",
        "%cd pytorch-nested-unet"
      ],
      "metadata": {
        "colab": {
          "base_uri": "https://localhost:8080/"
        },
        "id": "p7n50884CHUP",
        "outputId": "fc6476e3-4a74-4737-ec1f-f2530e38f4f8"
      },
      "execution_count": null,
      "outputs": [
        {
          "output_type": "stream",
          "name": "stdout",
          "text": [
            "Cloning into 'pytorch-nested-unet'...\n",
            "remote: Enumerating objects: 77, done.\u001b[K\n",
            "remote: Counting objects: 100% (24/24), done.\u001b[K\n",
            "remote: Compressing objects: 100% (8/8), done.\u001b[K\n",
            "remote: Total 77 (delta 19), reused 16 (delta 16), pack-reused 53 (from 1)\u001b[K\n",
            "Receiving objects: 100% (77/77), 25.64 KiB | 2.85 MiB/s, done.\n",
            "Resolving deltas: 100% (36/36), done.\n",
            "/content/pytorch-nested-unet\n"
          ]
        }
      ]
    },
    {
      "cell_type": "code",
      "source": [
        "!python archs.py\n",
        "!python losses.py\n",
        "!python metrics.py\n",
        "!python dataset.py\n",
        "!python utils.py"
      ],
      "metadata": {
        "id": "lTb-EnadCdNJ"
      },
      "execution_count": null,
      "outputs": []
    },
    {
      "cell_type": "code",
      "source": [
        "!pip install tensorboardX"
      ],
      "metadata": {
        "colab": {
          "base_uri": "https://localhost:8080/"
        },
        "id": "fsNTIkqFG8cJ",
        "outputId": "a647a6f6-359c-499a-dc24-9eeadaf1b618"
      },
      "execution_count": null,
      "outputs": [
        {
          "output_type": "stream",
          "name": "stdout",
          "text": [
            "Collecting tensorboardX\n",
            "  Downloading tensorboardX-2.6.2.2-py2.py3-none-any.whl.metadata (5.8 kB)\n",
            "Requirement already satisfied: numpy in /usr/local/lib/python3.10/dist-packages (from tensorboardX) (1.26.4)\n",
            "Requirement already satisfied: packaging in /usr/local/lib/python3.10/dist-packages (from tensorboardX) (24.1)\n",
            "Requirement already satisfied: protobuf>=3.20 in /usr/local/lib/python3.10/dist-packages (from tensorboardX) (3.20.3)\n",
            "Downloading tensorboardX-2.6.2.2-py2.py3-none-any.whl (101 kB)\n",
            "\u001b[?25l   \u001b[90m━━━━━━━━━━━━━━━━━━━━━━━━━━━━━━━━━━━━━━━━\u001b[0m \u001b[32m0.0/101.7 kB\u001b[0m \u001b[31m?\u001b[0m eta \u001b[36m-:--:--\u001b[0m\r\u001b[2K   \u001b[90m━━━━━━━━━━━━━━━━━━━━━━━━━━━━━━━━━━━━━━━━\u001b[0m \u001b[32m101.7/101.7 kB\u001b[0m \u001b[31m3.2 MB/s\u001b[0m eta \u001b[36m0:00:00\u001b[0m\n",
            "\u001b[?25hInstalling collected packages: tensorboardX\n",
            "Successfully installed tensorboardX-2.6.2.2\n"
          ]
        }
      ]
    },
    {
      "cell_type": "code",
      "source": [
        "dataset_dir = '/content/drive/MyDrive'\n",
        "dataset = 'glas_new'\n",
        "input_size = 256\n",
        "output_directory = '/content/drive/MyDrive/glas_data_nested'\n",
        "# Training command\n",
        "# Training command\n",
        "!python train.py --arch NestedUNet --dataset {dataset}  --data_dir {dataset_dir} --output_dir {output_directory}\n"
      ],
      "metadata": {
        "colab": {
          "base_uri": "https://localhost:8080/"
        },
        "id": "q2slXTa3Abgp",
        "outputId": "6d65a332-8171-4a6a-bcfe-85b437334654"
      },
      "execution_count": null,
      "outputs": [
        {
          "output_type": "stream",
          "name": "stdout",
          "text": [
            "/usr/local/lib/python3.10/dist-packages/albumentations/__init__.py:24: UserWarning: A new version of Albumentations is available: 1.4.21 (you have 1.4.20). Upgrade using: pip install -U albumentations. To disable automatic update checks, set the environment variable NO_ALBUMENTATIONS_UPDATE to 1.\n",
            "  check_for_updates()\n",
            "--------------------\n",
            "name: glas_new_NestedUNet_woDS\n",
            "epochs: 200\n",
            "batch_size: 8\n",
            "arch: NestedUNet\n",
            "deep_supervision: False\n",
            "input_channels: 3\n",
            "num_classes: 1\n",
            "input_w: 128\n",
            "input_h: 128\n",
            "input_list: [128, 160, 256]\n",
            "loss: BCEDiceLoss\n",
            "dataset: glas_new\n",
            "data_dir: /content/drive/MyDrive\n",
            "output_dir: /content/drive/MyDrive/glas_data_nested\n",
            "img_ext: .png\n",
            "mask_ext: .png\n",
            "dataseed: 2981\n",
            "optimizer: SGD\n",
            "lr: 0.001\n",
            "momentum: 0.9\n",
            "weight_decay: 0.0001\n",
            "nesterov: False\n",
            "scheduler: CosineAnnealingLR\n",
            "min_lr: 1e-05\n",
            "factor: 0.1\n",
            "patience: 2\n",
            "milestones: 1,2\n",
            "gamma: 0.6666666666666666\n",
            "early_stopping: -1\n",
            "num_workers: 4\n",
            "--------------------\n",
            "=> creating model NestedUNet\n",
            "/content/pytorch-nested-unet/train.py:544: DeprecationWarning: Flip is deprecated. Consider using HorizontalFlip, VerticalFlip, RandomRotate90 or D4.\n",
            "  geometric.transforms.Flip(),\n",
            "/usr/local/lib/python3.10/dist-packages/torch/utils/data/dataloader.py:617: UserWarning: This DataLoader will create 4 worker processes in total. Our suggested max number of worker in current system is 2, which is smaller than what this DataLoader is going to create. Please be aware that excessive worker creation might get DataLoader running slow or even freeze, lower the worker number to avoid potential slowness/freeze if necessary.\n",
            "  warnings.warn(\n",
            "Epoch [0/200]\n",
            "100% 16/16 [00:21<00:00,  1.37s/it, loss=0.694, iou=0.588]\n",
            "100% 5/5 [00:03<00:00,  1.28it/s, loss=0.747, iou=0.066, dice=0.124]\n",
            "loss 0.6936 - iou 0.5882 - val_loss 0.7474 - val_iou 0.0660\n",
            "=> saved best model\n",
            "Epoch [1/200]\n",
            "100% 16/16 [00:06<00:00,  2.43it/s, loss=0.633, iou=0.718]\n",
            "100% 5/5 [00:01<00:00,  4.12it/s, loss=0.789, iou=0.0344, dice=0.0665]\n",
            "loss 0.6331 - iou 0.7183 - val_loss 0.7893 - val_iou 0.0344\n",
            "Epoch [2/200]\n",
            "100% 16/16 [00:04<00:00,  3.74it/s, loss=0.579, iou=0.779]\n",
            "100% 5/5 [00:01<00:00,  4.83it/s, loss=0.77, iou=0.236, dice=0.382]\n",
            "loss 0.5786 - iou 0.7788 - val_loss 0.7697 - val_iou 0.2359\n",
            "=> saved best model\n",
            "Epoch [3/200]\n",
            "100% 16/16 [00:05<00:00,  3.18it/s, loss=0.543, iou=0.793]\n",
            "100% 5/5 [00:01<00:00,  3.02it/s, loss=0.695, iou=0.72, dice=0.837]\n",
            "loss 0.5428 - iou 0.7934 - val_loss 0.6947 - val_iou 0.7202\n",
            "=> saved best model\n",
            "Epoch [4/200]\n",
            "100% 16/16 [00:04<00:00,  3.46it/s, loss=0.515, iou=0.802]\n",
            "100% 5/5 [00:01<00:00,  4.84it/s, loss=0.643, iou=0.798, dice=0.887]\n",
            "loss 0.5149 - iou 0.8018 - val_loss 0.6430 - val_iou 0.7982\n",
            "=> saved best model\n",
            "Epoch [5/200]\n",
            "100% 16/16 [00:04<00:00,  3.70it/s, loss=0.497, iou=0.806]\n",
            "100% 5/5 [00:01<00:00,  4.56it/s, loss=0.59, iou=0.8, dice=0.888]\n",
            "loss 0.4966 - iou 0.8064 - val_loss 0.5898 - val_iou 0.7999\n",
            "=> saved best model\n",
            "Epoch [6/200]\n",
            "100% 16/16 [00:07<00:00,  2.17it/s, loss=0.486, iou=0.802]\n",
            "100% 5/5 [00:01<00:00,  4.74it/s, loss=0.511, iou=0.801, dice=0.889]\n",
            "loss 0.4855 - iou 0.8022 - val_loss 0.5114 - val_iou 0.8014\n",
            "=> saved best model\n",
            "Epoch [7/200]\n",
            "100% 16/16 [00:04<00:00,  3.75it/s, loss=0.471, iou=0.804]\n",
            "100% 5/5 [00:01<00:00,  4.73it/s, loss=0.479, iou=0.801, dice=0.889]\n",
            "loss 0.4713 - iou 0.8039 - val_loss 0.4786 - val_iou 0.8014\n",
            "Epoch [8/200]\n",
            "100% 16/16 [00:05<00:00,  3.10it/s, loss=0.466, iou=0.805]\n",
            "100% 5/5 [00:01<00:00,  3.02it/s, loss=0.474, iou=0.801, dice=0.889]\n",
            "loss 0.4657 - iou 0.8052 - val_loss 0.4737 - val_iou 0.8014\n",
            "Epoch [9/200]\n",
            "100% 16/16 [00:04<00:00,  3.44it/s, loss=0.458, iou=0.806]\n",
            "100% 5/5 [00:01<00:00,  4.79it/s, loss=0.466, iou=0.801, dice=0.889]\n",
            "loss 0.4582 - iou 0.8065 - val_loss 0.4659 - val_iou 0.8014\n",
            "Epoch [10/200]\n",
            " 19% 3/16 [00:01<00:05,  2.54it/s, loss=0.446, iou=0.824]Traceback (most recent call last):\n",
            "  File \"/content/pytorch-nested-unet/train.py\", line 751, in <module>\n",
            "    main()\n",
            "  File \"/content/pytorch-nested-unet/train.py\", line 642, in main\n",
            "    train_log = train(config, train_loader, model, criterion, optimizer)\n",
            "  File \"/content/pytorch-nested-unet/train.py\", line 223, in train\n",
            "    output = model(input)\n",
            "  File \"/usr/local/lib/python3.10/dist-packages/torch/nn/modules/module.py\", line 1736, in _wrapped_call_impl\n",
            "    return self._call_impl(*args, **kwargs)\n",
            "  File \"/usr/local/lib/python3.10/dist-packages/torch/nn/modules/module.py\", line 1747, in _call_impl\n",
            "    return forward_call(*args, **kwargs)\n",
            "  File \"/content/pytorch-nested-unet/archs.py\", line 117, in forward\n",
            "    x2_1 = self.conv2_1(torch.cat([x2_0, self.up(x3_0)], 1))\n",
            "  File \"/usr/local/lib/python3.10/dist-packages/torch/nn/modules/module.py\", line 1736, in _wrapped_call_impl\n",
            "    return self._call_impl(*args, **kwargs)\n",
            "  File \"/usr/local/lib/python3.10/dist-packages/torch/nn/modules/module.py\", line 1747, in _call_impl\n",
            "    return forward_call(*args, **kwargs)\n",
            "  File \"/content/pytorch-nested-unet/archs.py\", line 18, in forward\n",
            "    out = self.bn1(out)\n",
            "  File \"/usr/local/lib/python3.10/dist-packages/torch/nn/modules/module.py\", line 1736, in _wrapped_call_impl\n",
            "    return self._call_impl(*args, **kwargs)\n",
            "  File \"/usr/local/lib/python3.10/dist-packages/torch/nn/modules/module.py\", line 1747, in _call_impl\n",
            "    return forward_call(*args, **kwargs)\n",
            "  File \"/usr/local/lib/python3.10/dist-packages/torch/nn/modules/batchnorm.py\", line 173, in forward\n",
            "    self.num_batches_tracked.add_(1)  # type: ignore[has-type]\n",
            "KeyboardInterrupt\n",
            " 19% 3/16 [00:01<00:07,  1.64it/s, loss=0.446, iou=0.824]\n"
          ]
        }
      ]
    },
    {
      "cell_type": "code",
      "source": [
        "!python val.py"
      ],
      "metadata": {
        "colab": {
          "base_uri": "https://localhost:8080/"
        },
        "id": "teLFeigBG5BG",
        "outputId": "3ca3d3ac-c0d2-4f39-b9ce-30b2e25ff4f9"
      },
      "execution_count": null,
      "outputs": [
        {
          "output_type": "stream",
          "name": "stdout",
          "text": [
            "/usr/local/lib/python3.10/dist-packages/albumentations/__init__.py:24: UserWarning: A new version of Albumentations is available: 1.4.21 (you have 1.4.20). Upgrade using: pip install -U albumentations. To disable automatic update checks, set the environment variable NO_ALBUMENTATIONS_UPDATE to 1.\n",
            "  check_for_updates()\n",
            "--------------------\n",
            "arch: NestedUNet\n",
            "batch_size: 8\n",
            "data_dir: /content/drive/MyDrive\n",
            "dataseed: 2981\n",
            "dataset: glas_new\n",
            "deep_supervision: False\n",
            "early_stopping: -1\n",
            "epochs: 200\n",
            "factor: 0.1\n",
            "gamma: 0.6666666666666666\n",
            "img_ext: .png\n",
            "input_channels: 3\n",
            "input_h: 128\n",
            "input_list: [128, 160, 256]\n",
            "input_w: 128\n",
            "loss: BCEDiceLoss\n",
            "lr: 0.001\n",
            "mask_ext: .png\n",
            "milestones: 1,2\n",
            "min_lr: 1e-05\n",
            "momentum: 0.9\n",
            "name: glas_new_NestedUNet_woDS\n",
            "nesterov: False\n",
            "num_classes: 1\n",
            "num_workers: 4\n",
            "optimizer: SGD\n",
            "output_dir: /content/drive/MyDrive/glas_data_nested\n",
            "patience: 2\n",
            "scheduler: CosineAnnealingLR\n",
            "weight_decay: 0.0001\n",
            "--------------------\n",
            "=> creating model NestedUNet\n",
            "/content/pytorch-nested-unet/val.py:126: FutureWarning: You are using `torch.load` with `weights_only=False` (the current default value), which uses the default pickle module implicitly. It is possible to construct malicious pickle data which will execute arbitrary code during unpickling (See https://github.com/pytorch/pytorch/blob/main/SECURITY.md#untrusted-models for more details). In a future release, the default value for `weights_only` will be flipped to `True`. This limits the functions that could be executed during unpickling. Arbitrary objects will no longer be allowed to be loaded via this mode unless they are explicitly allowlisted by the user via `torch.serialization.add_safe_globals`. We recommend you start setting `weights_only=True` for any use case where you don't have full control of the loaded file. Please open an issue on GitHub for any issues related to this experimental feature.\n",
            "  model.load_state_dict(torch.load(f'/content/drive/MyDrive/glas_data_nested/model.pth'))\n",
            "/usr/local/lib/python3.10/dist-packages/torch/utils/data/dataloader.py:617: UserWarning: This DataLoader will create 4 worker processes in total. Our suggested max number of worker in current system is 2, which is smaller than what this DataLoader is going to create. Please be aware that excessive worker creation might get DataLoader running slow or even freeze, lower the worker number to avoid potential slowness/freeze if necessary.\n",
            "  warnings.warn(\n",
            "100% 5/5 [00:03<00:00,  1.62it/s]\n",
            "IoU: 0.8014\n",
            "Dice: 0.8888\n"
          ]
        }
      ]
    }
  ]
}